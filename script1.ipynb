{
 "cells": [
  {
   "cell_type": "markdown",
   "metadata": {},
   "source": [
    "# SARS-CoV-2 Variants Analysis : Omicron and Delta"
   ]
  },
  {
   "cell_type": "markdown",
   "metadata": {},
   "source": [
    "## Data Preprocessing"
   ]
  },
  {
   "cell_type": "code",
   "execution_count": 1,
   "metadata": {},
   "outputs": [],
   "source": [
    "def read_fasta(file_path) -> list:\n",
    "    sequences = []\n",
    "    cur = ''\n",
    "    with open(file_path, 'r') as f:\n",
    "        for line in f:\n",
    "            if line.startswith('>'):\n",
    "                if cur:\n",
    "                    sequences.append(cur)\n",
    "                    cur = ''\n",
    "            else:\n",
    "                cur += line.strip()\n",
    "        sequences.append(cur)\n",
    "    return sequences\n",
    "\n",
    "def clean_fasta(sequences) -> list:\n",
    "    for i in range(len(sequences)):\n",
    "        sequences[i] = sequences[i].upper()\n",
    "        sequences[i] = \\\n",
    "            ''.join(c for c in sequences[i] if c in {'A','C','G','T'})\n",
    "    return sequences\n",
    "\n",
    "def write_fastas(sequences, variant, directory, header=''):\n",
    "    import os\n",
    "    path_to_dir = f'./{directory}/{variant}'\n",
    "    if not os.path.exists(path_to_dir):\n",
    "        os.makedirs(path_to_dir)\n",
    "    for i in range(len(sequences)):\n",
    "        with open(f'{path_to_dir}/{variant}_{i+1}.fasta', 'w') as f:\n",
    "            f.write(f'>{header}\\n')\n",
    "            for j in range(0, len(sequences[i]), 60):\n",
    "                f.write(f'{sequences[i][j:j+60]}\\n')\n",
    "              \n",
    "def read_sequence(file_path) -> str:\n",
    "    return read_fasta(file_path)[0]"
   ]
  },
  {
   "cell_type": "code",
   "execution_count": 2,
   "metadata": {},
   "outputs": [],
   "source": [
    "directory = \"./SARS_CoV_2_Variants\"\n",
    "omicron_file = \"omicron.fasta\"\n",
    "delta_file = \"delta.fasta\"\n",
    "sequences_delta = clean_fasta(read_fasta(delta_file))\n",
    "sequences_omicron = clean_fasta(read_fasta(omicron_file))\n",
    "write_fastas(sequences_omicron, 'Omicron', directory)\n",
    "write_fastas(sequences_delta, 'Delta', directory)"
   ]
  }
 ],
 "metadata": {
  "kernelspec": {
   "display_name": "minimal_ds",
   "language": "python",
   "name": "python3"
  },
  "language_info": {
   "codemirror_mode": {
    "name": "ipython",
    "version": 3
   },
   "file_extension": ".py",
   "mimetype": "text/x-python",
   "name": "python",
   "nbconvert_exporter": "python",
   "pygments_lexer": "ipython3",
   "version": "3.10.13"
  }
 },
 "nbformat": 4,
 "nbformat_minor": 2
}
